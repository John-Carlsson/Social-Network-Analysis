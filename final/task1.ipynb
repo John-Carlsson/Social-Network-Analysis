{
 "cells": [
  {
   "attachments": {},
   "cell_type": "markdown",
   "metadata": {},
   "source": [
    "Task1: Network Identification\n",
    "Consider the network N represented in the file net_x, where x is your group number.\n",
    "This network has been generated with one of the network models seen during the course.\n",
    "You have to analyze the network N with the network mining tools (the ones shortlisted in the\n",
    "midterm project) and guess which model has been used for creating it. Your guess has to be\n",
    "supported by an appropriate set of experiments to confirm that networks generated with the\n",
    "proposed model have characteristics similar to N (note that you have to guess also the parameters of\n",
    "the model).\n",
    "During the discussion of the project, you will be asked to motivate your guess. Motivations may be\n",
    "related to both theoretical properties of the models seen during the course (e.g., “I analyzed the\n",
    "provided network and I observed that its node degree distribution follows a power law. Hence, I\n",
    "conclude that it is not possible that the graph has been generated with a model random(n, p).”), and\n",
    "to experimental evidence (e.g., “I generated a lot of random graphs with p = 1/3, and none of them\n",
    "had similar properties as the provided network. Hence I conclude that it is improbable that the graph\n",
    "is random(n, 1/3)”).\n",
    "A bonus point will be assigned to all the components of the groups whose guess is closer to the\n",
    "model (and parameters) used to generate N.\n"
   ]
  },
  {
   "cell_type": "code",
   "execution_count": null,
   "metadata": {},
   "outputs": [],
   "source": [
    "# Task 1:\n",
    "import networkx as nx\n",
    "from joblib import Parallel, delayed, cpu_count\n",
    "import pandas as pd\n",
    "import itertools as it\n",
    "import math\n",
    "from scipy.sparse import linalg\n",
    "import random\n",
    "from sklearn.cluster import SpectralClustering\n",
    "import numpy as np\n"
   ]
  },
  {
   "attachments": {},
   "cell_type": "markdown",
   "metadata": {},
   "source": [
    "Different types of graphs it can be:\n",
    "configurationG(deg)\n",
    "power_law_degree(n,power)\n",
    "preferentialG(n,p)\n",
    "GenWS2DG(n, r, k, q)\n",
    "affiliationG(n, m, q, c, p, s)\n",
    "randomG(n,p)\n",
    "\n",
    "\n",
    "info:\n",
    "Is undirected\n",
    "follows a normal distribution of neighbors with mean 23.3\n",
    "\n",
    "Parameters:\n",
    "Nodes: 20000\n",
    "edges: 227739\n"
   ]
  },
  {
   "cell_type": "code",
   "execution_count": null,
   "metadata": {},
   "outputs": [],
   "source": [
    "G = nx.Graph()\n",
    "\n",
    "with open('net_3', 'r') as f:\n",
    "    for s in f.readlines():\n",
    "        G.add_edge(s.split()[0], s.split()[1])\n",
    "\n",
    "print(G.number_of_nodes())\n",
    "print(G.number_of_edges())\n",
    "\n",
    "# graph is connected\n",
    "print(nx.is_connected(G))\n",
    "\n",
    "# Average degree of neighbors in the graph, tells us that on average a neihgbor of a node has 23.24 connections\n",
    "# which is a very connected graph\n",
    "mean_deg = print(np.mean(list(nx.average_neighbor_degree(G).values())))\n",
    "\n",
    "#print(nx.node_connectivity(g))\n",
    "\n",
    "s = nx.degree_alg.degree_centrality(G)\n",
    "max_k = '0'\n",
    "min_k = '0'\n",
    "for k in s:\n",
    "    if s[k] >= s[max_k]:\n",
    "        max_k = k\n",
    "    if s[k] <= s[min_k]:\n",
    "        min_k = k   \n",
    "print(max_k, s[max_k]) # very low centrality overall, max is 0.0021\n",
    "print(min_k, s[min_k]) # min is 0.00020, which is 10 times lowe than the max\n",
    "\n",
    "#print(nx.diameter(g)) # Should take some time to compute. Value is:\n",
    "a = []\n",
    "for i in G.nodes:\n",
    "    a.append(len(G[i]))\n",
    "\n",
    "std_deg = np.std(a)\n",
    "\n"
   ]
  },
  {
   "cell_type": "code",
   "execution_count": null,
   "metadata": {},
   "outputs": [],
   "source": [
    "# function to get the different kinds of centralities\n",
    "import networkx as nx\n",
    "def centrality(G):\n",
    "    # degree centrality\n",
    "    d_cen = nx.degree_centrality(G) # takes 5 seconds\n",
    "    print('degree done')\n",
    "    # closeness centrality\n",
    "    c_cen = nx.closeness_centrality(G) # takes 12 minutes\n",
    "    print('closeness done')\n",
    "    # betweenness centrality\n",
    "    #b_cen = nx.betweenness_centrality(G) # takes forever 50\n",
    "    #print('betweenness done')\n",
    "    # eulerian centrality\n",
    "    #e_cen = nx.eigenvector_centrality(G)\n",
    "    #print('eulerian done')\n",
    "    # return the different centralities\n",
    "    # return [[min(d_cen),max(d_cen)], [min(c_cen),max(c_cen)], [min(b_cen),max(b_cen)]]\n",
    "    return [d_cen, c_cen]"
   ]
  },
  {
   "cell_type": "code",
   "execution_count": null,
   "metadata": {},
   "outputs": [],
   "source": [
    "df = pd.DataFrame()\n",
    "df['nodes'] = G.nodes\n",
    "df['number of neighbors'] = [len(G[i]) for i in df['nodes']]\n",
    "#df['centrality'] = [nx.centrality.closeness.closeness_centrality(g,i) for i in df['nodes']]\n",
    "print(np.std(df['number of neighbors']))\n",
    "print(np.mean(df['number of neighbors']))"
   ]
  },
  {
   "cell_type": "code",
   "execution_count": null,
   "metadata": {},
   "outputs": [],
   "source": [
    "dfG = centrality(G)"
   ]
  },
  {
   "cell_type": "code",
   "execution_count": null,
   "metadata": {},
   "outputs": [],
   "source": [
    "import seaborn as sns\n",
    "\n",
    "hist_facit = sns.histplot(df['number of neighbors'])\n",
    "sns.PairGrid.savefig(hist_facit,'./figures/histo_facit.png')\n"
   ]
  },
  {
   "cell_type": "code",
   "execution_count": 10,
   "metadata": {},
   "outputs": [
    {
     "name": "stdout",
     "output_type": "stream",
     "text": [
      "Centrality for net_3\n",
      "1424 0.0021001050052502626\n",
      "10443 0.000200010000500025\n"
     ]
    },
    {
     "ename": "NameError",
     "evalue": "name 'g' is not defined",
     "output_type": "error",
     "traceback": [
      "\u001b[0;31m---------------------------------------------------------------------------\u001b[0m",
      "\u001b[0;31mNameError\u001b[0m                                 Traceback (most recent call last)",
      "Cell \u001b[0;32mIn[10], line 12\u001b[0m\n\u001b[1;32m     10\u001b[0m \u001b[39mprint\u001b[39m(max_k, s[max_k]) \u001b[39m# very low centrality overall, max is 0.0021\u001b[39;00m\n\u001b[1;32m     11\u001b[0m \u001b[39mprint\u001b[39m(min_k, s[min_k]) \u001b[39m# min is 0.00020, which is 10 times lowe than the\u001b[39;00m\n\u001b[0;32m---> 12\u001b[0m s \u001b[39m=\u001b[39m nx\u001b[39m.\u001b[39mdegree_alg\u001b[39m.\u001b[39mdegree_centrality(g)\n\u001b[1;32m     13\u001b[0m max_k \u001b[39m=\u001b[39m \u001b[39m0\u001b[39m\n\u001b[1;32m     14\u001b[0m min_k \u001b[39m=\u001b[39m \u001b[39m0\u001b[39m\n",
      "\u001b[0;31mNameError\u001b[0m: name 'g' is not defined"
     ]
    }
   ],
   "source": [
    "s = nx.degree_alg.degree_centrality(G)\n",
    "max_k = '0'\n",
    "min_k = '0'\n",
    "for k in s:\n",
    "    if s[k] >= s[max_k]:\n",
    "        max_k = k\n",
    "    if s[k] <= s[min_k]:\n",
    "        min_k = k   \n",
    "print('Centrality for net_3')\n",
    "print(max_k, s[max_k]) # very low centrality overall, max is 0.0021\n",
    "print(min_k, s[min_k]) # min is 0.00020, which is 10 times lowe than the\n",
    "s = nx.degree_alg.degree_centrality(g)\n",
    "max_k = 0\n",
    "min_k = 0\n",
    "for k in s:\n",
    "\n",
    "    if s[k] >= s[max_k]:\n",
    "        max_k = k\n",
    "    if s[k] <= s[min_k]:\n",
    "        min_k = k   \n",
    "\n",
    "print('Centrality for approximation')\n",
    "print(max_k, s[max_k]) # very low centrality overall, max is 0.0021\n",
    "print(min_k, s[min_k]) # min is 0.00020, which is 10 times lowe than the\n",
    "\n",
    "print('Same centrality')"
   ]
  },
  {
   "cell_type": "code",
   "execution_count": 11,
   "metadata": {},
   "outputs": [
    {
     "data": {
      "image/png": "[encoded data removed]",
      "text/plain": [
       "<Figure size 640x480 with 1 Axes>"
      ]
     },
     "metadata": {},
     "output_type": "display_data"
    }
   ],
   "source": [
    "import seaborn as sns\n",
    "df = pd.DataFrame()\n",
    "df['nodes'] = G.nodes\n",
    "df['Number of neighbors'] = [len(G[i]) for i in df['nodes']]\n",
    "std_dev = np.std(df['Number of neighbors'])\n",
    "mean_deg = np.mean(df['Number of neighbors'])\n",
    "num_nodes = 20000\n",
    "data = []\n",
    "for i in range(10):\n",
    "    data.append(np.round(np.random.normal(mean_deg, std_dev, num_nodes)).astype(int))\n",
    "sorted_data = [sorted(sublist) for sublist in data]\n",
    "\n",
    "# Create a new list based on the average of each index\n",
    "degrees = [int(sum(column) / len(column)) for column in zip(*sorted_data)]\n",
    "\n",
    "if sum(degrees) % 2 != 0:\n",
    "    degrees[0]-=1\n",
    "\n",
    "g = nx.configuration_model(degrees)\n",
    "df_ex = pd.DataFrame()\n",
    "df_ex['nodes'] = g.nodes\n",
    "df_ex['Number of neighbors'] = [len(g[i]) for i in df_ex['nodes']]\n",
    "histo_fit = sns.histplot(df_ex['Number of neighbors'])\n",
    "histo_fit.set_title(f'Mean = {mean_deg}, Std = {std_dev}')\n",
    "sns.PairGrid.savefig(histo_fit,'./figures/histo_fit.png')\n",
    "\n"
   ]
  },
  {
   "cell_type": "code",
   "execution_count": 14,
   "metadata": {},
   "outputs": [
    {
     "name": "stdout",
     "output_type": "stream",
     "text": [
      "Isomorphic:  False\n"
     ]
    }
   ],
   "source": [
    "import networkx as nx\n",
    "\n",
    "# Create the first graph\n",
    "G1 =  G\n",
    "\n",
    "G2 = g\n",
    "\n",
    "# Graph isomorphism\n",
    "is_isomorphic = nx.is_isomorphic(G1, G2)\n",
    "print(\"Isomorphic: \", is_isomorphic)\n",
    "\n",
    "# Node Matching - Jaccard similarity\n",
    "# node_similarity = nx.jaccard_coefficient(G1, G2.edges())\n",
    "# for u, v, sim in node_similarity:\n",
    "#     print(\"Jaccard similarity between nodes\", u, \"and\", v, \":\", sim)\n",
    "\n",
    "# # Edge Matching - Jaccard index\n",
    "# edge_similarity = nx.jaccard_coefficient(G1.edges(), G2.edges())\n",
    "# for u, v, sim in edge_similarity:\n",
    "#     print(\"Jaccard similarity between edges\", u, \"and\", v, \":\", sim)\n",
    "\n",
    "\n",
    "# Community Structure Comparison - Normalized Mutual Information\n",
    "communities_G1 = nx.algorithms.community.greedy_modularity_communities(G1)\n",
    "communities_G2 = nx.algorithms.community.greedy_modularity_communities(G2)\n",
    "normalized_mutual_info = nx.algorithms.community.quality.normalized_mutual_information(communities_G1, communities_G2)\n",
    "print(\"Normalized Mutual Information:\", normalized_mutual_info)\n"
   ]
  },
  {
   "cell_type": "code",
   "execution_count": null,
   "metadata": {},
   "outputs": [],
   "source": [
    "dfG_cen = sorted(list(nx.degree_centrality(G).values()))\n",
    "dfg_cen = sorted(list(nx.degree_centrality(g).values()))\n",
    "\n",
    "threshold = 10**-5\n",
    "k = 0\n",
    "for i in range(len(dfG_cen)):\n",
    "    if abs(dfG_cen[i] - dfg_cen[i]) > threshold:\n",
    "        k += 1\n",
    "print(k)\n"
   ]
  },
  {
   "cell_type": "code",
   "execution_count": null,
   "metadata": {},
   "outputs": [],
   "source": [
    "import numpy as np\n",
    "import seaborn as sns\n",
    "import matplotlib.pyplot as plt\n",
    "size = 20000\n",
    "# Generating data for power law distribution\n",
    "power_data = np.random.power(3, size=size) * 40  # Scale data to the range of 0-40\n",
    "\n",
    "inv_power_data = np.random.power(1/3, size=size) * 40  # Scale data to the range of 0-40\n",
    "\n",
    "# Generating data for normal distribution\n",
    "normal_data = np.random.normal(loc=20, scale=5, size=size)  # Adjust mean and standard deviation as desired\n",
    "\n",
    "# Generating data for random distribution\n",
    "random_data = np.random.random(size=size) * 40  # Scale data to the range of 0-10\n",
    "\n",
    "# Plotting power law distribution\n",
    "sns.kdeplot(power_data, color='red', label='Power Law = 3')\n",
    "\n",
    "# Plotting inv power law distribution\n",
    "sns.kdeplot(inv_power_data, color='orange', label='Power Law = 1/3')\n",
    "\n",
    "# Plotting normal distribution\n",
    "sns.kdeplot(normal_data, color='green', label='Normal Distribution')\n",
    "\n",
    "# Plotting random distribution\n",
    "sns.kdeplot(random_data, color='blue', label='Random Distribution')\n",
    "\n",
    "# Setting plot labels and title\n",
    "plt.xlabel('Value')\n",
    "plt.ylabel('Density')\n",
    "plt.title('Power Law vs. Normal vs. Random Distribution')\n",
    "\n",
    "# Setting x-axis limits\n",
    "plt.xlim(0, 40)\n",
    "\n",
    "# Adding legend\n",
    "plt.legend()\n",
    "\n",
    "# Save the figure as a PNG file\n",
    "plt.savefig('figures/distribution_plot.png', dpi=300, bbox_inches='tight')\n",
    "\n",
    "# Display the plot\n",
    "plt.show()\n"
   ]
  }
 ],
 "metadata": {
  "kernelspec": {
   "display_name": "base",
   "language": "python",
   "name": "python3"
  },
  "language_info": {
   "codemirror_mode": {
    "name": "ipython",
    "version": 3
   },
   "file_extension": ".py",
   "mimetype": "text/x-python",
   "name": "python",
   "nbconvert_exporter": "python",
   "pygments_lexer": "ipython3",
   "version": "3.9.15"
  },
  "orig_nbformat": 4
 },
 "nbformat": 4,
 "nbformat_minor": 2
}
