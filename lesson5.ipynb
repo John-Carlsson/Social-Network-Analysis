{
 "cells": [
  {
   "cell_type": "code",
   "execution_count": 2,
   "metadata": {},
   "outputs": [],
   "source": [
    "import networkx as nx\n",
    "import random\n",
    "import numpy as np\n",
    "from scipy.special import zeta\n",
    "import math\n"
   ]
  },
  {
   "cell_type": "code",
   "execution_count": 3,
   "metadata": {},
   "outputs": [],
   "source": [
    "def randomG(n, p):\n",
    "    G = nx.Graph()\n",
    "\n",
    "    for i in range(n):\n",
    "        for j in range(i+1,n):\n",
    "            r = random.random()\n",
    "            if r<= p:\n",
    "                G.add_edge(i,j)\n",
    "\n",
    "    return G"
   ]
  },
  {
   "cell_type": "code",
   "execution_count": 4,
   "metadata": {},
   "outputs": [
    {
     "data": {
      "text/plain": [
       "EdgeView([])"
      ]
     },
     "execution_count": 4,
     "metadata": {},
     "output_type": "execute_result"
    }
   ],
   "source": [
    "def configurationG(deg):\n",
    "    # deg is a list of numbers, the degree sequence of the nodes\n",
    "    G = nx.Graph()\n",
    "    nodes = [range(len(deg))]\n",
    "    threshold = len(nodes)^2\n",
    "\n",
    "    while len(nodes) > 1:\n",
    "        done = False\n",
    "        fail = False\n",
    "        tries = 1\n",
    "\n",
    "        while not done:\n",
    "            edge = random.sample(nodes,2)\n",
    "            if not G.has_edge(*edge):\n",
    "                done = True\n",
    "            \n",
    "            else:\n",
    "                tries += 1\n",
    "                if tries > threshold:\n",
    "                    fail = False\n",
    "                    done = True\n",
    "            \n",
    "            if not fail:\n",
    "                G.add_edge(*edge)\n",
    "                deg[edge[0]] -= 1\n",
    "                if deg[edge[0]] == 0:\n",
    "                    nodes.remove(edge[0])\n",
    "                    \n",
    "                deg[edge[1]] -= 1\n",
    "                if deg[edge[1]] == 0:\n",
    "                    nodes.remove(edge[1])\n",
    "\n",
    "\n",
    "\n",
    "    return G\n",
    "\n",
    "s = configurationG([1,2,4,3])\n",
    "s.edges()"
   ]
  },
  {
   "cell_type": "code",
   "execution_count": 5,
   "metadata": {},
   "outputs": [
    {
     "data": {
      "text/plain": [
       "[1, 1, 1, 1, 1, 1, 1, 2, 2, 3]"
      ]
     },
     "execution_count": 5,
     "metadata": {},
     "output_type": "execute_result"
    }
   ],
   "source": [
    "# n number of nodes\n",
    "# power is the exponent of the power law distribution\n",
    "# returns a degree sequenc that follows the power law\n",
    "def power_law_degree(n, power):\n",
    "    deg_list = []\n",
    "    deg = 1 # smallest degree we want to use\n",
    "\n",
    "    z = zeta(power) # normalisation factor? something like that\n",
    "    sumation = 0\n",
    "\n",
    "    while len(deg_list) < n:\n",
    "        p = (1 / (deg**power)) / z\n",
    "        num = math.ceil(p*n)\n",
    "\n",
    "        for i in range(num):\n",
    "            if len(deg_list) == n: break\n",
    "            deg_list.append(deg)\n",
    "            sumation += deg\n",
    "        deg += 1\n",
    "\n",
    "\n",
    "    if sumation % 2 != 0:\n",
    "        deg_list[-1] += 1\n",
    "\n",
    "\n",
    "\n",
    "    return deg_list\n",
    "\n",
    "\n",
    "s = power_law_degree(10,2)\n",
    "s"
   ]
  },
  {
   "cell_type": "code",
   "execution_count": 9,
   "metadata": {},
   "outputs": [
    {
     "data": {
      "text/plain": [
       "EdgeView([(0, 4), (0, 8), (4, 1), (4, 2), (4, 5), (1, 2), (1, 3), (1, 6), (6, 7), (6, 9)])"
      ]
     },
     "execution_count": 9,
     "metadata": {},
     "output_type": "execute_result"
    }
   ],
   "source": [
    "# n = number of nodes\n",
    "# p = probability\n",
    "def preferentialG(n,p):\n",
    "    G = nx.Graph()\n",
    "    nodes =[] \n",
    "\n",
    "    for u in range(n):\n",
    "        r = random.random()\n",
    "        if r < p and nodes != []:\n",
    "            v = random.choice(nodes)\n",
    "            G.add_edge(u,v)\n",
    "            nodes.append(v)\n",
    "            nodes.append(u)\n",
    "        \n",
    "        else:\n",
    "            v = random.choice([x for x in range(n) if x != u])\n",
    "            G.add_edge(u,v)\n",
    "            nodes.append(v)\n",
    "            nodes.append(u)\n",
    "\n",
    "\n",
    "    return G\n",
    "\n",
    "s = preferentialG(10,0.8)\n",
    "s.edges()"
   ]
  },
  {
   "cell_type": "code",
   "execution_count": 18,
   "metadata": {},
   "outputs": [
    {
     "data": {
      "text/plain": [
       "EdgeView([(0, 4), (0, 6), (4, 1), (4, 3), (6, 5), (6, 8), (1, 3), (2, 7), (3, 9), (5, 9)])"
      ]
     },
     "execution_count": 18,
     "metadata": {},
     "output_type": "execute_result"
    }
   ],
   "source": [
    "# Watts - Strogatz graph\n",
    "# n is number of nodes\n",
    "# r is the radius of each node, edges within radius has strong ties.\n",
    "# k is the number of random edges for each node, weak ties\n",
    "# q is ruling the probability of having a weak tie within a distance\n",
    "def genWS2DG(n, r,k,q):\n",
    "    G = nx.Graph()\n",
    "    nodes = {}\n",
    "    prob = {}\n",
    "\n",
    "    dim = math.sqrt(n)\n",
    "\n",
    "    for i in range(n):\n",
    "        x = random.random()\n",
    "        y = random.random()\n",
    "        nodes[i] = [x*dim, y*dim]\n",
    "        prob[i] = {}\n",
    "\n",
    "    for i in range(n):\n",
    "        for j in range(i+1,n):\n",
    "            dist = math.dist(nodes[i],nodes[j])\n",
    "            prob[i][j] = 1/(dist**q)\n",
    "            prob[j][i] = 1/(dist**q)\n",
    "            \n",
    "            if dist <= r:\n",
    "                G.add_edge(i,j)\n",
    "\n",
    "        norm = sum(prob[i].values())\n",
    "        \n",
    "        for h in range(k):\n",
    "            s = np.random.choice([x for x in range(n) if x!= i], p = [prob[i][x]/norm for x in range(n) if x!= i] )\n",
    "            G.add_edge(i,s)\n",
    "\n",
    "    return G\n",
    "\n",
    "s = genWS2DG(10,0.2,2,3)\n",
    "s.edges()"
   ]
  },
  {
   "cell_type": "code",
   "execution_count": 29,
   "metadata": {},
   "outputs": [
    {
     "data": {
      "text/plain": [
       "EdgeView([])"
      ]
     },
     "execution_count": 29,
     "metadata": {},
     "output_type": "execute_result"
    }
   ],
   "source": [
    "# n is nubmer of nodes\n",
    "# m is number of communities\n",
    "# q is probability of edge within community and 1-q is edge between nodes in differnet communities\n",
    "# c is the max number of communities a node can belong to\n",
    "# s is the number of weak ties????\n",
    "# p is ??\n",
    "def affiliationG(n,m,q,c,p,s):\n",
    "    G = nx.Graph()\n",
    "\n",
    "    community = {}\n",
    "    for i in range(m):\n",
    "        community[i] = set()\n",
    "    comm_inv = {}\n",
    "    for i in range(n):\n",
    "        comm_inv[i] = set()\n",
    "\n",
    "    communities = [] # contains nodes, a nodes appear once for each community it belongs to\n",
    "    nodes = []       # contains the degree???\n",
    "    \n",
    "    for i in range(n):\n",
    "        r = random.random()\n",
    "        if r <= q and len(communities) > 0:\n",
    "            prot = random.choice(communities) # choose a random node\n",
    "\n",
    "            for comm in comm_inv[prot]:\n",
    "                community[comm].add(i)\n",
    "            \n",
    "                if comm not in comm_inv:\n",
    "                    comm_inv[i].add(comm)\n",
    "                    communities.append(i)\n",
    "        else:\n",
    "            num_com = random.randint(1,c)\n",
    "            for k in range(num_com):\n",
    "                comm = random.choice([x for x in range(m)])\n",
    "                community[comm].add(i)\n",
    "            \n",
    "                if comm not in comm_inv:\n",
    "                    comm_inv[i].add(comm)\n",
    "                    communities.append(i)\n",
    "\n",
    "        for comm in comm_inv[i]:\n",
    "            for j in community[comm]:\n",
    "                if j != i and not G.has_edge(i,j):\n",
    "                    r2 = random.random()\n",
    "                    if r2 <= p:\n",
    "                        G.add_edge(i,j)\n",
    "                        nodes.append(i)\n",
    "                        nodes.append(j)\n",
    "\n",
    "        for k in range(s):\n",
    "            if len(nodes) == 0:\n",
    "                v = random.choice([x for x in range(n) if x != i])\n",
    "            else:\n",
    "                v = random.choice(nodes)\n",
    "            if v != i and G.has_edge(i,v):\n",
    "                G.add_edge(i,v)\n",
    "                nodes.append(i)\n",
    "                nodes.append(v)\n",
    "\n",
    "\n",
    "    return G\n",
    "s = affiliationG(n = 10,m = 2,q = 0.9,c = 2,p = 0.4,s = 3)\n",
    "s.edges()"
   ]
  }
 ],
 "metadata": {
  "kernelspec": {
   "display_name": "base",
   "language": "python",
   "name": "python3"
  },
  "language_info": {
   "codemirror_mode": {
    "name": "ipython",
    "version": 3
   },
   "file_extension": ".py",
   "mimetype": "text/x-python",
   "name": "python",
   "nbconvert_exporter": "python",
   "pygments_lexer": "ipython3",
   "version": "3.9.15"
  },
  "orig_nbformat": 4
 },
 "nbformat": 4,
 "nbformat_minor": 2
}
